{
  "nbformat": 4,
  "nbformat_minor": 0,
  "metadata": {
    "colab": {
      "name": "allthreads_onemodel_performance_prediction.ipynb",
      "provenance": [],
      "collapsed_sections": []
    },
    "kernelspec": {
      "name": "python3",
      "display_name": "Python 3"
    },
    "language_info": {
      "name": "python"
    }
  },
  "cells": [
    {
      "cell_type": "code",
      "metadata": {
        "id": "u55pZQS3Lyg1"
      },
      "source": [
        "# imports\n",
        "import numpy as np\n",
        "import pandas as pd\n",
        "\n",
        "from sklearn.preprocessing import StandardScaler, MinMaxScaler\n",
        "\n",
        "from sklearn.linear_model import LinearRegression, Lasso, Ridge, LassoCV, RidgeCV\n",
        "from sklearn.svm import SVR\n",
        "from sklearn.tree import DecisionTreeRegressor\n",
        "from sklearn.ensemble import RandomForestRegressor, AdaBoostRegressor, GradientBoostingRegressor\n",
        "from sklearn.gaussian_process import GaussianProcessRegressor\n",
        "\n",
        "from sklearn.model_selection import KFold, train_test_split\n",
        "\n",
        "from sklearn.metrics import mean_absolute_error, mean_squared_error, r2_score\n",
        "\n",
        "from sklearn.gaussian_process.kernels import DotProduct, WhiteKernel\n",
        "\n",
        "from collections import defaultdict\n",
        "\n",
        "from tqdm import tqdm\n",
        "\n",
        "from keras.callbacks import ModelCheckpoint\n",
        "from keras.models import Sequential\n",
        "from keras.layers import Dense, Activation, Flatten"
      ],
      "execution_count": null,
      "outputs": []
    },
    {
      "cell_type": "code",
      "metadata": {
        "id": "2UjE9xYzMZ5b"
      },
      "source": [
        "df_p = pd.read_csv(\"/content/drive/MyDrive/Multicore/parsec_dataset.csv\")\n",
        "df_s = pd.read_csv(\"/content/drive/MyDrive/Multicore/splash_dataset.csv\")\n",
        "\n",
        "del df_p['workload']\n",
        "del df_s['name']\n",
        "del df_s['size']\n",
        "del df_p['size']\n",
        "del df_s['single-thread-time']\n",
        "\n",
        "df_p.rename(columns={'IPC': 'ipc', 'run_time': 'real-time', 'thread': 'threads'}, inplace=True)"
      ],
      "execution_count": null,
      "outputs": []
    },
    {
      "cell_type": "code",
      "metadata": {
        "colab": {
          "base_uri": "https://localhost:8080/"
        },
        "id": "befiOea8Mn1w",
        "outputId": "a78088d9-8d51-4396-cb94-130076a85ba1"
      },
      "source": [
        "df = pd.concat([df_p, df_s], axis=0)\n",
        "df.columns[:16]"
      ],
      "execution_count": null,
      "outputs": [
        {
          "output_type": "execute_result",
          "data": {
            "text/plain": [
              "Index(['ipc', 'branch-instructions', 'branch-misses', 'branch-miss-rate',\n",
              "       'cache-misses', 'cache-miss-rate', 'cache-references', 'cycles',\n",
              "       'instructions', 'cpu-clock', 'page-faults', 'L1-dcache-loads',\n",
              "       'L1-icache-load-misses', 'LLC-load-misses', 'real-time', 'threads'],\n",
              "      dtype='object')"
            ]
          },
          "metadata": {},
          "execution_count": 3
        }
      ]
    },
    {
      "cell_type": "code",
      "metadata": {
        "id": "7VwmFkJ1cPPE"
      },
      "source": [
        "# filtering out single-thread records\n",
        "df = df[df['threads'] != 1]"
      ],
      "execution_count": null,
      "outputs": []
    },
    {
      "cell_type": "code",
      "metadata": {
        "id": "ALB7DVO-Mun7"
      },
      "source": [
        "# all features\n",
        "# Either run this block or the block below this\n",
        "# Run this block if you want to run with all features\n",
        "X = df.loc[:, ['ipc', 'branch-instructions', 'branch-misses', 'branch-miss-rate',\n",
        "       'cache-misses', 'cache-miss-rate', 'cache-references', 'cycles',\n",
        "       'instructions', 'cpu-clock', 'page-faults', 'L1-dcache-loads',\n",
        "       'L1-icache-load-misses', 'LLC-load-misses', 'threads']]\n",
        "\n",
        "Y = df.loc[:, ['real-time']]"
      ],
      "execution_count": null,
      "outputs": []
    },
    {
      "cell_type": "code",
      "metadata": {
        "id": "gSL0hvtZg23e"
      },
      "source": [
        "# Run this block if you want to run with significant features only\n",
        "\n",
        "# significant features\n",
        "X = df.loc[:, ['cache-miss-rate', 'instructions', 'cpu-clock', 'page-faults',\n",
        "       'L1-icache-load-misses', 'LLC-load-misses', 'threads']]\n",
        "\n",
        "Y = df.loc[:, ['real-time']]"
      ],
      "execution_count": null,
      "outputs": []
    },
    {
      "cell_type": "code",
      "metadata": {
        "colab": {
          "base_uri": "https://localhost:8080/",
          "height": 383
        },
        "id": "e6KwHRORMy3d",
        "outputId": "bdb4c7a3-9b52-427a-b5b4-d343ade866f6"
      },
      "source": [
        "model = RandomForestRegressor(random_state=42)\n",
        "model.fit(X,Y['real-time'])\n",
        "\n",
        "feat_importances = pd.Series(model.feature_importances_, index=X.columns)\n",
        "feat_importances.nlargest(6).plot(kind='bar')\n"
      ],
      "execution_count": null,
      "outputs": [
        {
          "output_type": "execute_result",
          "data": {
            "text/plain": [
              "<matplotlib.axes._subplots.AxesSubplot at 0x7f5fee30bd90>"
            ]
          },
          "metadata": {},
          "execution_count": 13
        },
        {
          "output_type": "display_data",
          "data": {
            "image/png": "[encoded data removed]",
            "text/plain": [
              "<Figure size 432x288 with 1 Axes>"
            ]
          },
          "metadata": {
            "needs_background": "light"
          }
        }
      ]
    },
    {
      "cell_type": "code",
      "metadata": {
        "colab": {
          "base_uri": "https://localhost:8080/"
        },
        "id": "GyEUGkNVOdlf",
        "outputId": "f4e3a403-1f84-4544-9ff4-764336c511f3"
      },
      "source": [
        "'''\n",
        "Writing one model for all 306 input points\n",
        "'''\n",
        "\n",
        "# scaling step\n",
        "scaler = StandardScaler()\n",
        "X_scaled = scaler.fit_transform(X.values)\n",
        "Y_scaled = Y.values\n",
        "X_scaled.shape[0]"
      ],
      "execution_count": null,
      "outputs": [
        {
          "output_type": "execute_result",
          "data": {
            "text/plain": [
              "255"
            ]
          },
          "metadata": {},
          "execution_count": 6
        }
      ]
    },
    {
      "cell_type": "code",
      "metadata": {
        "colab": {
          "base_uri": "https://localhost:8080/"
        },
        "id": "nsFYizg8bbEY",
        "outputId": "6c6ac7f7-5cd4-4afb-82a9-c578279be540"
      },
      "source": [
        "# Collecting data for each model \n",
        "# Runs on selected features\n",
        "\n",
        "# KFold Validation (10 folds)\n",
        "\n",
        "actual_speedup = []\n",
        "predicted_speedup = []\n",
        "kf = KFold(n_splits=X_scaled.shape[0], shuffle=False)\n",
        "\n",
        "results = defaultdict(lambda: defaultdict(list))\n",
        "\n",
        "\n",
        "for train_index, test_index in tqdm(kf.split(X_scaled)):\n",
        "  X_train, X_test = X_scaled[train_index], X_scaled[test_index]\n",
        "  y_train, y_test = Y_scaled[train_index], Y_scaled[test_index]\n",
        "\n",
        "  model = LinearRegression()\n",
        "  model.fit(X_train, y_train.ravel())\n",
        "  results['linear_regression']['predicted'] += model.predict(X_test).flatten().tolist()\n",
        "  results['linear_regression']['actual'] += y_test.flatten().tolist()\n",
        "\n",
        "  \n",
        "  model = Lasso(random_state=42)\n",
        "  model.set_params(alpha=0.01424539312472771)\n",
        "  model.fit(X_train, y_train.ravel())\n",
        "  results['lasso']['predicted'] += model.predict(X_test).flatten().tolist()\n",
        "  results['lasso']['actual'] += y_test.flatten().tolist()\n",
        "\n",
        "  model = Ridge(max_iter=10000, random_state=42)\n",
        "  model.fit(X_train, y_train.ravel())\n",
        "  results['ridge']['predicted'] += model.predict(X_test).flatten().tolist()\n",
        "  results['ridge']['actual'] += y_test.flatten().tolist()\n",
        "  \n",
        "  model = SVR()\n",
        "  model.fit(X_train, y_train.ravel())\n",
        "  results['svr']['predicted'] += model.predict(X_test).flatten().tolist()\n",
        "  results['svr']['actual'] += y_test.flatten().tolist()\n",
        "\n",
        "  model = DecisionTreeRegressor(random_state=42)\n",
        "  model.fit(X_train, y_train.ravel())\n",
        "  results['decision_tree']['predicted'] += model.predict(X_test).flatten().tolist()\n",
        "  results['decision_tree']['actual'] += y_test.flatten().tolist()\n",
        "  \n",
        "  model = RandomForestRegressor(random_state=42)\n",
        "  model.fit(X_train, y_train.ravel())\n",
        "  results['random_forest']['predicted'] += model.predict(X_test).flatten().tolist()\n",
        "  results['random_forest']['actual'] += y_test.flatten().tolist()\n",
        "\n",
        "  model = AdaBoostRegressor(random_state=42)\n",
        "  model.fit(X_train, y_train.ravel())\n",
        "  results['ada_boost']['predicted'] += model.predict(X_test).flatten().tolist()\n",
        "  results['ada_boost']['actual'] += y_test.flatten().tolist()\n",
        "\n",
        "  model = GradientBoostingRegressor(random_state=42)\n",
        "  model.fit(X_train, y_train.ravel())\n",
        "  results['gradient_boost']['predicted'] += model.predict(X_test).flatten().tolist()\n",
        "  results['gradient_boost']['actual'] += y_test.flatten().tolist()\n",
        "\n",
        "  kernel = DotProduct() + WhiteKernel()\n",
        "  model = GaussianProcessRegressor(kernel=kernel, random_state=42)\n",
        "  model.fit(X_train, y_train.ravel())\n",
        "  results['gaussian_regression']['predicted'] += model.predict(X_test).flatten().tolist()\n",
        "  results['gaussian_regression']['actual'] += y_test.flatten().tolist()\n",
        "\n",
        "for model in results:\n",
        "  results[model]['mse'] = mean_squared_error(y_true=results[model]['actual'], y_pred=results[model]['predicted'])\n",
        "  results[model]['mae'] = mean_absolute_error(y_true=results[model]['actual'], y_pred=results[model]['predicted'])\n",
        "  results[model]['r2score'] = r2_score(y_true=results[model]['actual'], y_pred=results[model]['predicted'])\n",
        "  results[model]['adj_r2score'] = 1 - ((1 - results[model]['r2score']) * (len(results[model]['actual']) - 1) / (len(results[model]['actual']) - 1 - X_train.shape[1]))\n",
        "  print(model, ' '*(20-len(model)), results[model]['mse'], '\\t', results[model]['mae'], '\\t', results[model]['r2score'], '\\t', results[model]['adj_r2score'] )"
      ],
      "execution_count": null,
      "outputs": [
        {
          "output_type": "stream",
          "name": "stderr",
          "text": [
            "255it [02:29,  1.71it/s]"
          ]
        },
        {
          "output_type": "stream",
          "name": "stdout",
          "text": [
            "linear_regression     2.0834474060048604 \t 0.9361050676448867 \t 0.6484409523103745 \t 0.6384777404325308\n",
            "lasso                 2.0514717635951727 \t 0.953936730397768 \t 0.6538364935476595 \t 0.6440261917453665\n",
            "ridge                 2.0797635561851986 \t 0.9445771595862508 \t 0.6490625618267458 \t 0.6391169664129289\n",
            "svr                   1.1628892536466784 \t 0.618195693454194 \t 0.803775109752124 \t 0.798214080473844\n",
            "decision_tree         0.4189232586666667 \t 0.29676705882352944 \t 0.9293112648548689 \t 0.9273079403770716\n",
            "random_forest         0.4537882062808318 \t 0.2935030980392158 \t 0.9234281848473499 \t 0.9212581334057768\n",
            "ada_boost             0.7988814355571003 \t 0.7037015717056012 \t 0.8651974626804091 \t 0.8613771478575867\n",
            "gradient_boost        0.3396591525033264 \t 0.27589373708898807 \t 0.9426862190766259 \t 0.9410619418844655\n",
            "gaussian_regression   2.080708759853417 \t 0.9520419488862377 \t 0.6489030690070501 \t 0.6389529535538085\n"
          ]
        },
        {
          "output_type": "stream",
          "name": "stderr",
          "text": [
            "\n"
          ]
        }
      ]
    },
    {
      "cell_type": "code",
      "metadata": {
        "colab": {
          "base_uri": "https://localhost:8080/"
        },
        "id": "3tCxFkCQMJgl",
        "outputId": "bb75c460-146e-4dc2-9b82-bd23feda64ba"
      },
      "source": [
        "# Simple Split of train and test data\n",
        "\n",
        "seed = 42\n",
        "test_size = 0.3\n",
        "X_train, X_test, y_train, y_test = train_test_split(X_scaled, Y_scaled, test_size=test_size, random_state=seed)\n",
        "\n",
        "actual_speedup = []\n",
        "predicted_speedup = []\n",
        "\n",
        "results = defaultdict(lambda: defaultdict(list))\n",
        "\n",
        "model = LinearRegression()\n",
        "model.fit(X_train, y_train)\n",
        "results['linear_regression']['predicted'] = model.predict(X_test).flatten().tolist()\n",
        "results['linear_regression']['actual'] = y_test.flatten().tolist()\n",
        "\n",
        "model = Lasso(random_state=42)\n",
        "lassocv = LassoCV(alphas = None, cv = 10, max_iter = 100000)\n",
        "lassocv.fit(X_train, y_train.ravel())\n",
        "model.set_params(alpha=lassocv.alpha_)\n",
        "model.fit(X_train, y_train.ravel())\n",
        "results['lasso']['predicted'] += model.predict(X_test).flatten().tolist()\n",
        "results['lasso']['actual'] += y_test.flatten().tolist()\n",
        "\n",
        "model = Ridge(max_iter=10000, random_state=42)\n",
        "model.fit(X_train, y_train)\n",
        "results['ridge']['predicted'] = (model.predict(X_test)).flatten().tolist()\n",
        "results['ridge']['actual'] = (y_test).flatten().tolist()\n",
        "\n",
        "model = SVR()\n",
        "model.fit(X_train, y_train)\n",
        "results['svr']['predicted'] = (model.predict(X_test)).flatten().tolist()\n",
        "results['svr']['actual'] = (y_test).flatten().tolist()\n",
        "\n",
        "model = DecisionTreeRegressor(random_state=42)\n",
        "model.fit(X_train, y_train)\n",
        "results['decision_tree']['predicted'] = (model.predict(X_test)).flatten().tolist()\n",
        "results['decision_tree']['actual'] = (y_test).flatten().tolist()\n",
        "\n",
        "model = RandomForestRegressor(random_state=42)\n",
        "model.fit(X_train, y_train)\n",
        "results['random_forest']['predicted'] = (model.predict(X_test)).flatten().tolist()\n",
        "results['random_forest']['actual'] = (y_test).flatten().tolist()\n",
        "\n",
        "model = AdaBoostRegressor(random_state=42)\n",
        "model.fit(X_train, y_train)\n",
        "results['ada_boost']['predicted'] = (model.predict(X_test)).flatten().tolist()\n",
        "results['ada_boost']['actual'] = (y_test).flatten().tolist()\n",
        "\n",
        "model = GradientBoostingRegressor(random_state=42)\n",
        "model.fit(X_train, y_train)\n",
        "results['gradient_boost']['predicted'] = (model.predict(X_test)).flatten().tolist()\n",
        "results['gradient_boost']['actual'] = (y_test).flatten().tolist()\n",
        "\n",
        "kernel = DotProduct() + WhiteKernel()\n",
        "model = GaussianProcessRegressor(kernel=kernel, random_state=42)\n",
        "model.fit(X_train, y_train)\n",
        "results['gaussian_regression']['predicted'] = (model.predict(X_test)).flatten().tolist()\n",
        "results['gaussian_regression']['actual'] = (y_test).flatten().tolist()\n",
        "\n",
        "# NN_model = Sequential()\n",
        "# NN_model.add(Dense(15, kernel_initializer='normal',input_dim = X_train.shape[1], activation='relu'))\n",
        "# NN_model.add(Dense(10, kernel_initializer='normal',activation='relu'))\n",
        "# NN_model.add(Dense(15, kernel_initializer='normal',activation='relu'))\n",
        "# NN_model.add(Dense(10, kernel_initializer='normal',activation='relu'))\n",
        "# NN_model.add(Dense(1, kernel_initializer='normal',activation='linear'))\n",
        "# NN_model.compile(loss='mean_squared_error', optimizer='adam')\n",
        "# NN_model.summary()\n",
        "# checkpoint_name = 'Weights-{epoch:03d}--{val_loss:.5f}.hdf5' \n",
        "# checkpoint = ModelCheckpoint(checkpoint_name, monitor='val_loss', verbose = 1, save_best_only = True, mode ='auto')\n",
        "# callbacks_list = [checkpoint]\n",
        "# NN_model.fit(X_train, y_train, epochs=200, batch_size=32, validation_split = 0.2, callbacks=callbacks_list)\n",
        "# predictions = NN_model.predict(X_test)\n",
        "# results['ann']['predicted'] = predictions.flatten().tolist()\n",
        "# results['ann']['actual'] = y_test.flatten().tolist()\n",
        "\n",
        "\n",
        "for model in results:\n",
        "  results[model]['mse'] = mean_squared_error(results[model]['actual'], results[model]['predicted'], squared=True)\n",
        "  results[model]['mae'] = mean_absolute_error(y_true=results[model]['actual'], y_pred=results[model]['predicted'])\n",
        "  results[model]['r2score'] = r2_score(y_true=results[model]['actual'], y_pred=results[model]['predicted'])\n",
        "  results[model]['adj_r2score'] = 1 - ((1 - results[model]['r2score']) * (len(results[model]['actual']) - 1) / (len(results[model]['actual']) - 1 - X_train.shape[1]))\n",
        "  print(model, ' '*(20-len(model)), results[model]['mse'], '\\t', results[model]['mae'], '\\t', results[model]['r2score'], '\\t', results[model]['adj_r2score'] )"
      ],
      "execution_count": null,
      "outputs": [
        {
          "output_type": "stream",
          "name": "stderr",
          "text": [
            "/usr/local/lib/python3.7/dist-packages/sklearn/utils/validation.py:985: DataConversionWarning: A column-vector y was passed when a 1d array was expected. Please change the shape of y to (n_samples, ), for example using ravel().\n",
            "  y = column_or_1d(y, warn=True)\n",
            "/usr/local/lib/python3.7/dist-packages/ipykernel_launcher.py:41: DataConversionWarning: A column-vector y was passed when a 1d array was expected. Please change the shape of y to (n_samples,), for example using ravel().\n",
            "/usr/local/lib/python3.7/dist-packages/sklearn/utils/validation.py:985: DataConversionWarning: A column-vector y was passed when a 1d array was expected. Please change the shape of y to (n_samples, ), for example using ravel().\n",
            "  y = column_or_1d(y, warn=True)\n"
          ]
        },
        {
          "output_type": "stream",
          "name": "stdout",
          "text": [
            "linear_regression     2.0764080430767557 \t 0.961952625323083 \t 0.6418609548399641 \t 0.6055280082295257\n",
            "lasso                 2.091098773219642 \t 0.9691716859237433 \t 0.6393270963897334 \t 0.6027370916756484\n",
            "ridge                 2.0955083486295383 \t 0.9688540210954449 \t 0.6385665324282679 \t 0.6018993690514255\n",
            "svr                   1.7276982935077374 \t 0.7365090890851519 \t 0.7020064436638229 \t 0.6717752133108774\n",
            "decision_tree         0.2918289148051948 \t 0.23552987012987012 \t 0.9496653226484548 \t 0.9445589061055445\n",
            "random_forest         0.35864652745142855 \t 0.2730282077922077 \t 0.9381406148373944 \t 0.9318650250382895\n",
            "ada_boost             0.6825245287584956 \t 0.6737319435212124 \t 0.882278108176816 \t 0.8703353075570727\n",
            "gradient_boost        0.20867734227209722 \t 0.21284770902273173 \t 0.9640073133230971 \t 0.9603558813413823\n",
            "gaussian_regression   2.117408075741973 \t 0.9757013759606077 \t 0.634789265535345 \t 0.5977389011693655\n"
          ]
        },
        {
          "output_type": "stream",
          "name": "stderr",
          "text": [
            "/usr/local/lib/python3.7/dist-packages/sklearn/ensemble/_gb.py:494: DataConversionWarning: A column-vector y was passed when a 1d array was expected. Please change the shape of y to (n_samples, ), for example using ravel().\n",
            "  y = column_or_1d(y, warn=True)\n"
          ]
        }
      ]
    }
  ]
}